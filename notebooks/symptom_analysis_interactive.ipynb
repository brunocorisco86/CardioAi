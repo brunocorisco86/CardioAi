{
 "cells": [
  {
   "cell_type": "markdown",
   "metadata": {},
   "source": [
    "# 🩺 Análise Interativa de Sintomas Cardiovasculares\n",
    "\n",
    "Este notebook utiliza uma abordagem de **IA Híbrida** para triagem médica:\n",
    "1. **Análise Semântica (spaCy):** Encontra os diagnósticos diferenciais (Junta Médica).\n",
    "2. **Machine Learning (TF-IDF + Decision Tree):** Classifica o **Grau de Risco**."
   ]
  },
  {
   "cell_type": "markdown",
   "metadata": {},
   "source": [
    "## 1. Instalação de Dependências"
   ]
  },
  {
   "cell_type": "code",
   "execution_count": 1,
   "metadata": {},
   "outputs": [
    {
     "name": "stdout",
     "output_type": "stream",
     "text": [
      "Defaulting to user installation because normal site-packages is not writeable\n",
      "Requirement already satisfied: pandas in /home/brunoconter/.local/lib/python3.13/site-packages (2.3.2)\n",
      "Requirement already satisfied: spacy in /home/brunoconter/.local/lib/python3.13/site-packages (3.8.7)\n",
      "Requirement already satisfied: scikit-learn in /home/brunoconter/.local/lib/python3.13/site-packages (1.7.2)\n",
      "Requirement already satisfied: seaborn in /home/brunoconter/.local/lib/python3.13/site-packages (0.13.2)\n",
      "Requirement already satisfied: matplotlib in /home/brunoconter/.local/lib/python3.13/site-packages (3.10.6)\n",
      "Requirement already satisfied: numpy>=1.26.0 in /usr/lib64/python3.13/site-packages (from pandas) (2.2.6)\n",
      "Requirement already satisfied: python-dateutil>=2.8.2 in /usr/lib/python3.13/site-packages (from pandas) (2.8.2)\n",
      "Requirement already satisfied: pytz>=2020.1 in /home/brunoconter/.local/lib/python3.13/site-packages (from pandas) (2025.2)\n",
      "Requirement already satisfied: tzdata>=2022.7 in /home/brunoconter/.local/lib/python3.13/site-packages (from pandas) (2025.2)\n",
      "Requirement already satisfied: spacy-legacy<3.1.0,>=3.0.11 in /home/brunoconter/.local/lib/python3.13/site-packages (from spacy) (3.0.12)\n",
      "Requirement already satisfied: spacy-loggers<2.0.0,>=1.0.0 in /home/brunoconter/.local/lib/python3.13/site-packages (from spacy) (1.0.5)\n",
      "Requirement already satisfied: murmurhash<1.1.0,>=0.28.0 in /home/brunoconter/.local/lib/python3.13/site-packages (from spacy) (1.0.13)\n",
      "Requirement already satisfied: cymem<2.1.0,>=2.0.2 in /home/brunoconter/.local/lib/python3.13/site-packages (from spacy) (2.0.11)\n",
      "Requirement already satisfied: preshed<3.1.0,>=3.0.2 in /home/brunoconter/.local/lib/python3.13/site-packages (from spacy) (3.0.10)\n",
      "Requirement already satisfied: thinc<8.4.0,>=8.3.4 in /home/brunoconter/.local/lib/python3.13/site-packages (from spacy) (8.3.6)\n",
      "Requirement already satisfied: wasabi<1.2.0,>=0.9.1 in /home/brunoconter/.local/lib/python3.13/site-packages (from spacy) (1.1.3)\n",
      "Requirement already satisfied: srsly<3.0.0,>=2.4.3 in /home/brunoconter/.local/lib/python3.13/site-packages (from spacy) (2.5.1)\n",
      "Requirement already satisfied: catalogue<2.1.0,>=2.0.6 in /home/brunoconter/.local/lib/python3.13/site-packages (from spacy) (2.0.10)\n",
      "Requirement already satisfied: weasel<0.5.0,>=0.1.0 in /home/brunoconter/.local/lib/python3.13/site-packages (from spacy) (0.4.1)\n",
      "Requirement already satisfied: typer<1.0.0,>=0.3.0 in /home/brunoconter/.local/lib/python3.13/site-packages (from spacy) (0.19.2)\n",
      "Requirement already satisfied: tqdm<5.0.0,>=4.38.0 in /home/brunoconter/.local/lib/python3.13/site-packages (from spacy) (4.67.1)\n",
      "Requirement already satisfied: requests<3.0.0,>=2.13.0 in /usr/lib/python3.13/site-packages (from spacy) (2.32.4)\n",
      "Requirement already satisfied: pydantic!=1.8,!=1.8.1,<3.0.0,>=1.7.4 in /home/brunoconter/.local/lib/python3.13/site-packages (from spacy) (2.11.10)\n",
      "Requirement already satisfied: jinja2 in /home/brunoconter/.local/lib/python3.13/site-packages (from spacy) (3.1.6)\n",
      "Requirement already satisfied: setuptools in /usr/lib/python3.13/site-packages (from spacy) (74.1.3)\n",
      "Requirement already satisfied: packaging>=20.0 in /usr/lib/python3.13/site-packages (from spacy) (24.2)\n",
      "Requirement already satisfied: langcodes<4.0.0,>=3.2.0 in /home/brunoconter/.local/lib/python3.13/site-packages (from spacy) (3.5.0)\n",
      "Requirement already satisfied: scipy>=1.8.0 in /home/brunoconter/.local/lib/python3.13/site-packages (from scikit-learn) (1.16.2)\n",
      "Requirement already satisfied: joblib>=1.2.0 in /home/brunoconter/.local/lib/python3.13/site-packages (from scikit-learn) (1.5.2)\n",
      "Requirement already satisfied: threadpoolctl>=3.1.0 in /home/brunoconter/.local/lib/python3.13/site-packages (from scikit-learn) (3.6.0)\n",
      "Requirement already satisfied: contourpy>=1.0.1 in /home/brunoconter/.local/lib/python3.13/site-packages (from matplotlib) (1.3.3)\n",
      "Requirement already satisfied: cycler>=0.10 in /home/brunoconter/.local/lib/python3.13/site-packages (from matplotlib) (0.12.1)\n",
      "Requirement already satisfied: fonttools>=4.22.0 in /home/brunoconter/.local/lib/python3.13/site-packages (from matplotlib) (4.60.0)\n",
      "Requirement already satisfied: kiwisolver>=1.3.1 in /home/brunoconter/.local/lib/python3.13/site-packages (from matplotlib) (1.4.9)\n",
      "Requirement already satisfied: pillow>=8 in /usr/lib64/python3.13/site-packages (from matplotlib) (11.1.0)\n",
      "Requirement already satisfied: pyparsing>=2.3.1 in /home/brunoconter/.local/lib/python3.13/site-packages (from matplotlib) (3.2.5)\n",
      "Requirement already satisfied: language-data>=1.2 in /home/brunoconter/.local/lib/python3.13/site-packages (from langcodes<4.0.0,>=3.2.0->spacy) (1.3.0)\n",
      "Requirement already satisfied: annotated-types>=0.6.0 in /home/brunoconter/.local/lib/python3.13/site-packages (from pydantic!=1.8,!=1.8.1,<3.0.0,>=1.7.4->spacy) (0.7.0)\n",
      "Requirement already satisfied: pydantic-core==2.33.2 in /home/brunoconter/.local/lib/python3.13/site-packages (from pydantic!=1.8,!=1.8.1,<3.0.0,>=1.7.4->spacy) (2.33.2)\n",
      "Requirement already satisfied: typing-extensions>=4.12.2 in /usr/lib/python3.13/site-packages (from pydantic!=1.8,!=1.8.1,<3.0.0,>=1.7.4->spacy) (4.12.2)\n",
      "Requirement already satisfied: typing-inspection>=0.4.0 in /home/brunoconter/.local/lib/python3.13/site-packages (from pydantic!=1.8,!=1.8.1,<3.0.0,>=1.7.4->spacy) (0.4.2)\n",
      "Requirement already satisfied: six>=1.5 in /usr/lib/python3.13/site-packages (from python-dateutil>=2.8.2->pandas) (1.17.0)\n",
      "Requirement already satisfied: charset-normalizer<4,>=2 in /usr/lib/python3.13/site-packages (from requests<3.0.0,>=2.13.0->spacy) (3.4.1)\n",
      "Requirement already satisfied: idna<4,>=2.5 in /usr/lib/python3.13/site-packages (from requests<3.0.0,>=2.13.0->spacy) (3.10)\n",
      "Requirement already satisfied: urllib3<3,>=1.21.1 in /usr/lib/python3.13/site-packages (from requests<3.0.0,>=2.13.0->spacy) (2.3.0)\n",
      "Requirement already satisfied: blis<1.4.0,>=1.3.0 in /home/brunoconter/.local/lib/python3.13/site-packages (from thinc<8.4.0,>=8.3.4->spacy) (1.3.0)\n",
      "Requirement already satisfied: confection<1.0.0,>=0.0.1 in /home/brunoconter/.local/lib/python3.13/site-packages (from thinc<8.4.0,>=8.3.4->spacy) (0.1.5)\n",
      "Requirement already satisfied: click>=8.0.0 in /usr/lib/python3.13/site-packages (from typer<1.0.0,>=0.3.0->spacy) (8.1.7)\n",
      "Requirement already satisfied: shellingham>=1.3.0 in /home/brunoconter/.local/lib/python3.13/site-packages (from typer<1.0.0,>=0.3.0->spacy) (1.5.4)\n",
      "Requirement already satisfied: rich>=10.11.0 in /home/brunoconter/.local/lib/python3.13/site-packages (from typer<1.0.0,>=0.3.0->spacy) (14.1.0)\n",
      "Requirement already satisfied: cloudpathlib<1.0.0,>=0.7.0 in /home/brunoconter/.local/lib/python3.13/site-packages (from weasel<0.5.0,>=0.1.0->spacy) (0.22.0)\n",
      "Requirement already satisfied: smart-open<8.0.0,>=5.2.1 in /home/brunoconter/.local/lib/python3.13/site-packages (from weasel<0.5.0,>=0.1.0->spacy) (7.3.1)\n",
      "Requirement already satisfied: MarkupSafe>=2.0 in /usr/lib64/python3.13/site-packages (from jinja2->spacy) (3.0.2)\n",
      "Requirement already satisfied: marisa-trie>=1.1.0 in /home/brunoconter/.local/lib/python3.13/site-packages (from language-data>=1.2->langcodes<4.0.0,>=3.2.0->spacy) (1.3.1)\n",
      "Requirement already satisfied: markdown-it-py>=2.2.0 in /home/brunoconter/.local/lib/python3.13/site-packages (from rich>=10.11.0->typer<1.0.0,>=0.3.0->spacy) (4.0.0)\n",
      "Requirement already satisfied: pygments<3.0.0,>=2.13.0 in /home/brunoconter/.local/lib/python3.13/site-packages (from rich>=10.11.0->typer<1.0.0,>=0.3.0->spacy) (2.19.2)\n",
      "Requirement already satisfied: wrapt in /home/brunoconter/.local/lib/python3.13/site-packages (from smart-open<8.0.0,>=5.2.1->weasel<0.5.0,>=0.1.0->spacy) (1.17.3)\n",
      "Requirement already satisfied: mdurl~=0.1 in /home/brunoconter/.local/lib/python3.13/site-packages (from markdown-it-py>=2.2.0->rich>=10.11.0->typer<1.0.0,>=0.3.0->spacy) (0.1.2)\n",
      "Defaulting to user installation because normal site-packages is not writeable\n",
      "Collecting pt-core-news-md==3.8.0\n",
      "  Downloading https://github.com/explosion/spacy-models/releases/download/pt_core_news_md-3.8.0/pt_core_news_md-3.8.0-py3-none-any.whl (42.4 MB)\n",
      "\u001b[2K     \u001b[38;2;114;156;31m━━━━━━━━━━━━━━━━━━━━━━━━━━━━━━━━━━━━━━━━\u001b[0m \u001b[32m42.4/42.4 MB\u001b[0m \u001b[31m7.1 MB/s\u001b[0m eta \u001b[36m0:00:00\u001b[0mm eta \u001b[36m0:00:01\u001b[0m[36m0:00:01\u001b[0m\n",
      "\u001b[?25h\u001b[38;5;2m✔ Download and installation successful\u001b[0m\n",
      "You can now load the package via spacy.load('pt_core_news_md')\n"
     ]
    }
   ],
   "source": [
    "# Instalação de bibliotecas essenciais e download do modelo em português\n",
    "!pip install pandas spacy scikit-learn seaborn matplotlib\n",
    "!python -m spacy download pt_core_news_md"
   ]
  },
  {
   "cell_type": "markdown",
   "metadata": {},
   "source": [
    "## 2. Carregamento de Bibliotecas e Modelo Base"
   ]
  },
  {
   "cell_type": "code",
   "execution_count": 12,
   "metadata": {},
   "outputs": [
    {
     "name": "stdout",
     "output_type": "stream",
     "text": [
      "✅ Modelo spaCy em Português (pt_core_news_md) carregado.\n"
     ]
    }
   ],
   "source": [
    "import pandas as pd\n",
    "import spacy\n",
    "import numpy as np\n",
    "import seaborn as sns\n",
    "import matplotlib.pyplot as plt\n",
    "import random\n",
    "from spacy import displacy\n",
    "# Importação corrigida para compatibilidade com versões recentes do IPython\n",
    "from IPython.display import display, HTML \n",
    "\n",
    "from sklearn.feature_extraction.text import TfidfVectorizer\n",
    "from sklearn.model_selection import train_test_split\n",
    "from sklearn.tree import DecisionTreeClassifier\n",
    "from sklearn.metrics import accuracy_score, classification_report, confusion_matrix\n",
    "\n",
    "# Variáveis globais para os modelos (Prática de modularidade)\n",
    "nlp = None\n",
    "vectorizer = None\n",
    "model = None\n",
    "\n",
    "try:\n",
    "    nlp = spacy.load(\"pt_core_news_md\")\n",
    "    print(\"✅ Modelo spaCy em Português (pt_core_news_md) carregado.\")\n",
    "except OSError:\n",
    "    print(\"❌ ERRO: Modelo 'pt_core_news_md' não encontrado. Execute a célula de instalação.\")"
   ]
  },
  {
   "cell_type": "markdown",
   "metadata": {},
   "source": [
    "## 3. Funções de Pré-Processamento e Carregamento de Dados"
   ]
  },
  {
   "cell_type": "code",
   "execution_count": 13,
   "metadata": {},
   "outputs": [
    {
     "name": "stdout",
     "output_type": "stream",
     "text": [
      "✅ Base de conhecimento de 94 sintomas carregada.\n"
     ]
    }
   ],
   "source": [
    "KNOWLEDGE_BASE_FILE = \"../assets/tabela_sintoma_diagnostico_risco.csv\"\n",
    "\n",
    "def spacy_tokenizer(text):\n",
    "    \"\"\"Lematiza o texto e remove stopwords para otimizar o TF-IDF.\"\"\"\n",
    "    if nlp is None: return []\n",
    "    doc = nlp(text.lower().strip())\n",
    "    # Retorna o lemma de tokens que não são stopword, pontuação ou espaço\n",
    "    return [token.lemma_ for token in doc if not token.is_stop and not token.is_punct and not token.is_space]\n",
    "\n",
    "def load_knowledge_base(file_path):\n",
    "    \"\"\"Carrega a base de conhecimento e pré-processa com spaCy para similaridade.\"\"\"\n",
    "    if nlp is None: return None\n",
    "    try:\n",
    "        df = pd.read_csv(file_path)\n",
    "        df.dropna(subset=['Expressão em 1ª Pessoa', 'Grau de Risco'], inplace=True)\n",
    "        # Cria o objeto spaCy (doc) para cada expressão (para similaridade)\n",
    "        df['doc'] = list(nlp.pipe(df['Expressão em 1ª Pessoa'].astype(str)))\n",
    "        print(f\"✅ Base de conhecimento de {len(df)} sintomas carregada.\")\n",
    "        return df\n",
    "    except FileNotFoundError:\n",
    "        print(f\"❌ Erro: Arquivo não encontrado em '{file_path}'\")\n",
    "        return None\n",
    "    except KeyError:\n",
    "        print(\"❌ Erro: Colunas esperadas não encontradas no CSV.\")\n",
    "        return None\n",
    "\n",
    "knowledge_base_df = load_knowledge_base(KNOWLEDGE_BASE_FILE)"
   ]
  },
  {
   "cell_type": "markdown",
   "metadata": {},
   "source": [
    "## 4. Função de Treinamento e Avaliação do Modelo ML (Risco)"
   ]
  },
  {
   "cell_type": "code",
   "execution_count": 14,
   "metadata": {},
   "outputs": [],
   "source": [
    "def train_and_evaluate_model(df):\n",
    "    global vectorizer, model\n",
    "    \n",
    "    if df is None or df.empty: return False\n",
    "\n",
    "    # 1. Preparação dos Dados\n",
    "    X = df['Expressão em 1ª Pessoa']\n",
    "    y = df['Grau de Risco']\n",
    "    \n",
    "    # 2. Vetorização com Tokenizer Otimizado (Lematização/Stopwords)\n",
    "    vectorizer = TfidfVectorizer(max_features=1000, tokenizer=spacy_tokenizer)\n",
    "    X_tfidf = vectorizer.fit_transform(X)\n",
    "    \n",
    "    # 3. Divisão dos Dados (Treino e Teste)\n",
    "    X_train, X_test, y_train, y_test = train_test_split(X_tfidf, y, test_size=0.2, random_state=42, stratify=y)\n",
    "    print(f\"\\n✅ Dados de ML prontos: Treino={X_train.shape}, Teste={X_test.shape}\")\n",
    "\n",
    "    # 4. Treinamento do Modelo (Decision Tree com peso balanceado para classes de risco)\n",
    "    model = DecisionTreeClassifier(random_state=42, class_weight='balanced')\n",
    "    model.fit(X_train, y_train)\n",
    "    print(\"✅ Modelo de Árvore de Decisão treinado.\")\n",
    "    \n",
    "    # 5. Avaliação\n",
    "    y_pred = model.predict(X_test)\n",
    "    accuracy = accuracy_score(y_test, y_pred)\n",
    "    print(f\"\\n🎯 Acurácia no Teste: {accuracy:.2f}\")\n",
    "    print(\"\\n📊 Relatório de Classificação:\\n\", classification_report(y_test, y_pred, zero_division=0))\n",
    "    \n",
    "    # 6. Plot da Matriz de Confusão\n",
    "    conf_matrix = confusion_matrix(y_test, y_pred, labels=model.classes_)\n",
    "    plt.figure(figsize=(8, 6))\n",
    "    classes_sorted = sorted(model.classes_)\n",
    "    sns.heatmap(conf_matrix, annot=True, fmt='d', cmap='Blues', xticklabels=classes_sorted, yticklabels=classes_sorted)\n",
    "    plt.title('Matriz de Confusão do Modelo de Risco')\n",
    "    plt.xlabel('Rótulo Previsto')\n",
    "    plt.ylabel('Rótulo Verdadeiro')\n",
    "    plt.show()\n",
    "    \n",
    "    return True\n"
   ]
  },
  {
   "cell_type": "markdown",
   "metadata": {},
   "source": [
    "## 5. Funções de Análise Semântica (Junta Médica) e Previsão ML"
   ]
  },
  {
   "cell_type": "code",
   "execution_count": 15,
   "metadata": {},
   "outputs": [],
   "source": [
    "def analisar_sintoma_e_discutir(frase_usuario, base_conhecimento, limiar_similaridade=0.65):\n",
    "    \"\"\"Realiza a análise semântica e imprime a 'Junta Médica' (NLP).\"\"\"\n",
    "    if base_conhecimento is None or nlp is None: return\n",
    "\n",
    "    doc_usuario = nlp(frase_usuario.strip().lower())\n",
    "    try:\n",
    "        similarities = np.array([doc_usuario.similarity(kb_doc) for kb_doc in base_conhecimento['doc']])\n",
    "    except ValueError:\n",
    "        print(\"❌ ERRO: A similaridade não pode ser calculada.\")\n",
    "        return\n",
    "\n",
    "    top_indices = np.argsort(similarities)[-3:][::-1]\n",
    "    maior_similaridade = similarities[top_indices[0]]\n",
    "    \n",
    "    print(f\"\\n--- Análise Semântica da Frase: '{frase_usuario}' ---\")\n",
    "\n",
    "    if maior_similaridade < limiar_similaridade:\n",
    "        print(f\"⚠️ Não foi possível identificar um sintoma correspondente (Similaridade Máxima: {maior_similaridade:.2f}).\")\n",
    "        return\n",
    "\n",
    "    resultados = [base_conhecimento.iloc[i] for i in top_indices]\n",
    "    scores = [similarities[i] for i in top_indices]\n",
    "    emojis = [\"✅ 1º\", \"🥈 2º\", \"🥉 3º\"]\n",
    "\n",
    "    print(\"\\n*** Hipóteses de Diagnóstico Diferencial ***\")\n",
    "    for i, (res, score) in enumerate(zip(resultados, scores)):\n",
    "        # Regra de filtro para o 2º e 3º diagnóstico\n",
    "        if i > 0 and score < limiar_similaridade * 0.85: continue\n",
    "        print(f\"{emojis[i]} Hipótese (Similaridade: {score:.2f}):\")\n",
    "        print(f\"   - Sintoma: {res['Sintoma Cardiovascular']}\")\n",
    "        print(f\"   - Risco: {res['Grau de Risco']}\")\n",
    "        print(f\"   - Diagnóstico Principal: {res['Diagnóstico Cardíaco Principal Associado']}\")\n",
    "\n",
    "    print(\"\\n\" + \"=\"*15 + \" 🩺 DISCUSSÃO DA JUNTA MÉDICA \" + \"=\"*15)\n",
    "    principal = resultados[0]\n",
    "    print(f\"\\n**Hipótese Principal:** A descrição aponta para **{principal['Diagnóstico Cardíaco Principal Associado']}** (Risco: {principal['Grau de Risco']}).\")\n",
    "\n",
    "    if len(resultados) > 1 and scores[1] >= limiar_similaridade * 0.85:\n",
    "        secundario = resultados[1]\n",
    "        print(f\"**Diagnóstico Diferencial:** Deve-se considerar **{secundario['Diagnóstico Cardíaco Principal Associado']}**, pois os sintomas podem se sobrepor.\")\n",
    "\n",
    "    print(\"**Recomendação:** Aprofundar a anamnese e realizar exames complementares (ECG, marcadores cardíacos) para confirmação.\")\n",
    "    print(\"=\"*58 + '\\n')\n",
    "\n",
    "\n",
    "def prever_risco_ml(frase):\n",
    "    \"\"\"Recebe uma frase e retorna a previsão de risco do modelo ML.\"\"\"\n",
    "    if model is None or vectorizer is None: return \"'Modelo ML não treinado' (Confiança: 0.00)\"\n",
    "    if not frase.strip(): return \"'Frase vazia' (Confiança: 1.00)\"\n",
    "    \n",
    "    # Transforma a frase usando o vectorizer com o spacy_tokenizer\n",
    "    frase_tfidf = vectorizer.transform([frase])\n",
    "    \n",
    "    if frase_tfidf.nnz == 0:\n",
    "        return \"'Indefinido' (Confiança: 0.00 - Vocabulário não encontrado)\"\n",
    "\n",
    "    previsao = model.predict(frase_tfidf)\n",
    "    probabilidade = model.predict_proba(frase_tfidf)\n",
    "    max_prob = np.max(probabilidade)\n",
    "    \n",
    "    return f\"'{previsao[0]}' (Confiança: {max_prob:.2f})\"\n"
   ]
  },
  {
   "cell_type": "markdown",
   "metadata": {},
   "source": [
    "## 6. Bloco de Execução Principal (Treinamento, Teste e POC)"
   ]
  },
  {
   "cell_type": "code",
   "execution_count": 16,
   "metadata": {},
   "outputs": [
    {
     "name": "stdout",
     "output_type": "stream",
     "text": [
      "\n",
      "--- INICIANDO TREINAMENTO E AVALIAÇÃO DO ML ---\n"
     ]
    },
    {
     "name": "stderr",
     "output_type": "stream",
     "text": [
      "/home/brunoconter/.local/lib/python3.13/site-packages/sklearn/feature_extraction/text.py:517: UserWarning: The parameter 'token_pattern' will not be used since 'tokenizer' is not None'\n",
      "  warnings.warn(\n"
     ]
    },
    {
     "name": "stdout",
     "output_type": "stream",
     "text": [
      "\n",
      "✅ Dados de ML prontos: Treino=(75, 257), Teste=(19, 257)\n",
      "✅ Modelo de Árvore de Decisão treinado.\n",
      "\n",
      "🎯 Acurácia no Teste: 0.68\n",
      "\n",
      "📊 Relatório de Classificação:\n",
      "               precision    recall  f1-score   support\n",
      "\n",
      "  Alto Risco       0.80      0.57      0.67         7\n",
      " Baixo Risco       0.50      0.25      0.33         4\n",
      " Médio Risco       0.67      1.00      0.80         8\n",
      "\n",
      "    accuracy                           0.68        19\n",
      "   macro avg       0.66      0.61      0.60        19\n",
      "weighted avg       0.68      0.68      0.65        19\n",
      "\n"
     ]
    },
    {
     "data": {
      "image/png": "[encoded data removed]",
      "text/plain": [
       "<Figure size 800x600 with 2 Axes>"
      ]
     },
     "metadata": {},
     "output_type": "display_data"
    },
    {
     "name": "stdout",
     "output_type": "stream",
     "text": [
      "\n",
      "============================================================\n",
      "--- 🧪 TESTE RÁPIDO: PREVISÃO DE RISCO PARA TODOS OS EXEMPLOS ---\n",
      "============================================================\n",
      "Frase: \"Sinto um peso enorme no peito, parece que tem um elefante se...\" -> Risco: 'Médio Risco' (Confiança: 1.00)\n",
      "Frase: \"A dor do peito irradiou para o braço esquerdo e o pescoço.\" -> Risco: 'Médio Risco' (Confiança: 1.00)\n",
      "Frase: \"Estou com uma queimação forte no meio do peito que não é azi...\" -> Risco: 'Alto Risco' (Confiança: 1.00)\n",
      "Frase: \"Acordei de madrugada com uma dor que parecia um rasgo indo p...\" -> Risco: 'Alto Risco' (Confiança: 1.00)\n",
      "Frase: \"Sinto só uma pontada rápida no lado esquerdo quando respiro ...\" -> Risco: 'Médio Risco' (Confiança: 1.00)\n",
      "Frase: \"A dor aperta e some quando eu paro de andar, mas volta ao su...\" -> Risco: 'Médio Risco' (Confiança: 1.00)\n",
      "Frase: \"Senti um aperto no maxilar e comecei a suar frio de repente.\" -> Risco: 'Alto Risco' (Confiança: 1.00)\n",
      "Frase: \"Estou com um desconforto na boca do estômago e enjoo.\" -> Risco: 'Médio Risco' (Confiança: 1.00)\n",
      "Frase: \"A dor começou forte e constante há 3 horas e não passou com ...\" -> Risco: 'Alto Risco' (Confiança: 1.00)\n",
      "Frase: \"Tenho um arrocho no peito quando fico nervoso ou estressado.\" -> Risco: 'Médio Risco' (Confiança: 1.00)\n",
      "Frase: \"Estou com falta de ar até em repouso, não consigo respirar d...\" -> Risco: 'Alto Risco' (Confiança: 1.00)\n",
      "Frase: \"Precisei dormir sentado porque deitado eu sufoco (ortopneia)...\" -> Risco: 'Médio Risco' (Confiança: 1.00)\n",
      "Frase: \"Sinto cansaço excessivo e o fôlego está curto ao caminhar um...\" -> Risco: 'Médio Risco' (Confiança: 1.00)\n",
      "Frase: \"Tenho tosse seca e persistente que piora de noite.\" -> Risco: 'Médio Risco' (Confiança: 1.00)\n",
      "Frase: \"Acordo de noite com falta de ar intensa e tenho que correr p...\" -> Risco: 'Alto Risco' (Confiança: 1.00)\n",
      "Frase: \"Minhas pernas estão muito inchadas no fim do dia e a meia ap...\" -> Risco: 'Médio Risco' (Confiança: 1.00)\n",
      "Frase: \"Estou com a barriga d'água (ascite) e o peso aumentou muito ...\" -> Risco: 'Médio Risco' (Confiança: 1.00)\n",
      "Frase: \"Quando me abaixo para amarrar o sapato, sinto falta de ar na...\" -> Risco: 'Alto Risco' (Confiança: 1.00)\n",
      "Frase: \"Sinto um disparo no coração que parece que vai sair pela boc...\" -> Risco: 'Médio Risco' (Confiança: 1.00)\n",
      "Frase: \"Parece que o coração está falhando, dando uns pulos e depois...\" -> Risco: 'Médio Risco' (Confiança: 1.00)\n",
      "Frase: \"Eu fiquei tonto e tive a sensação de que ia desmaiar (lipoti...\" -> Risco: 'Médio Risco' (Confiança: 1.00)\n",
      "Frase: \"Do nada, perdi a consciência e caí no chão (síncope).\" -> Risco: 'Médio Risco' (Confiança: 1.00)\n",
      "Frase: \"Minhas panturrilhas doem muito depois de andar 5 minutos (cl...\" -> Risco: 'Médio Risco' (Confiança: 1.00)\n",
      "Frase: \"Meus lábios e dedos estão azulados/roxos (cianose).\" -> Risco: 'Alto Risco' (Confiança: 1.00)\n",
      "Frase: \"Sinto uma fraqueza generalizada e um cansaço extremo o dia t...\" -> Risco: 'Médio Risco' (Confiança: 1.00)\n",
      "Frase: \"Minha pressão está sempre 16/10, mesmo tomando o remédio.\" -> Risco: 'Alto Risco' (Confiança: 1.00)\n",
      "Frase: \"Tenho dor de cabeça na nuca que não melhora com remédios sim...\" -> Risco: 'Alto Risco' (Confiança: 1.00)\n",
      "Frase: \"Fico com muito suor frio e ansiedade quando sinto o aperto n...\" -> Risco: 'Alto Risco' (Confiança: 1.00)\n",
      "Frase: \"Meus dedos ficam brancos e dormentes no frio intenso (Fenôme...\" -> Risco: 'Médio Risco' (Confiança: 1.00)\n",
      "Frase: \"Tenho bolinhas de gordura amarelas na pálpebra (xantelasmas)...\" -> Risco: 'Baixo Risco' (Confiança: 1.00)\n",
      "\n",
      "============================================================\n",
      "--- 🎲 PROVA DE CONCEITO: TESTE INTEGRADO ALEATÓRIO ---\n",
      " (Mostra Junta Médica e Previsão ML) \n",
      "============================================================\n",
      "\n",
      "Frase Aleatória: 'Acordei de madrugada com uma dor que parecia um rasgo indo para as costas.'\n",
      "\n",
      "--- Análise Semântica da Frase: 'Acordei de madrugada com uma dor que parecia um rasgo indo para as costas.' ---\n",
      "\n",
      "*** Hipóteses de Diagnóstico Diferencial ***\n",
      "✅ 1º Hipótese (Similaridade: 0.78):\n",
      "   - Sintoma: Dor torácica 'em rasgo' com irradiação dorsal\n",
      "   - Risco: Alto Risco\n",
      "   - Diagnóstico Principal: Dissecção Aguda da Aorta\n",
      "🥈 2º Hipótese (Similaridade: 0.78):\n",
      "   - Sintoma: Ataque de Pânico (Diagnóstico Diferencial de SCA)\n",
      "   - Risco: Baixo Risco\n",
      "   - Diagnóstico Principal: Transtorno de Ansiedade / Pânico\n",
      "🥉 3º Hipótese (Similaridade: 0.76):\n",
      "   - Sintoma: Fácies Mitral\n",
      "   - Risco: Médio Risco\n",
      "   - Diagnóstico Principal: Estenose Mitral Grave\n",
      "\n",
      "=============== 🩺 DISCUSSÃO DA JUNTA MÉDICA ===============\n",
      "\n",
      "**Hipótese Principal:** A descrição aponta para **Dissecção Aguda da Aorta** (Risco: Alto Risco).\n",
      "**Diagnóstico Diferencial:** Deve-se considerar **Transtorno de Ansiedade / Pânico**, pois os sintomas podem se sobrepor.\n",
      "**Recomendação:** Aprofundar a anamnese e realizar exames complementares (ECG, marcadores cardíacos) para confirmação.\n",
      "==========================================================\n",
      "\n",
      "🤖 Previsão Final do Modelo ML (Risco de Triagem): 'Alto Risco' (Confiança: 1.00)\n",
      "\n",
      "============================================================\n",
      "\n"
     ]
    }
   ],
   "source": [
    "# -----------------------------------------------------\n",
    "# EXECUÇÃO: TREINAMENTO E AVALIAÇÃO DO MODELO ML\n",
    "# -----------------------------------------------------\n",
    "if knowledge_base_df is not None:\n",
    "    print(\"\\n--- INICIANDO TREINAMENTO E AVALIAÇÃO DO ML ---\")\n",
    "    model_trained = train_and_evaluate_model(knowledge_base_df)\n",
    "else:\n",
    "    model_trained = False\n",
    "\n",
    "\n",
    "# -----------------------------------------------------\n",
    "# EXECUÇÃO: TESTE INTEGRADO COM 30 EXEMPLOS\n",
    "# -----------------------------------------------------\n",
    "# Lista robusta de 30 exemplos de sintomas (Atualizada)\n",
    "exemplos = [\n",
    "    # 1. Dor Torácica (Angina e Infarto)\n",
    "    \"Sinto um peso enorme no peito, parece que tem um elefante sentado.\",\n",
    "    \"A dor do peito irradiou para o braço esquerdo e o pescoço.\",\n",
    "    \"Estou com uma queimação forte no meio do peito que não é azia.\",\n",
    "    \"Acordei de madrugada com uma dor que parecia um rasgo indo para as costas.\",\n",
    "    \"Sinto só uma pontada rápida no lado esquerdo quando respiro fundo.\",\n",
    "    \"A dor aperta e some quando eu paro de andar, mas volta ao subir a escada.\",\n",
    "    \"Senti um aperto no maxilar e comecei a suar frio de repente.\",\n",
    "    \"Estou com um desconforto na boca do estômago e enjoo.\",\n",
    "    \"A dor começou forte e constante há 3 horas e não passou com nada.\",\n",
    "    \"Tenho um arrocho no peito quando fico nervoso ou estressado.\",\n",
    "\n",
    "    # 2. Falta de Ar (Dispneia e Insuficiência Cardíaca)\n",
    "    \"Estou com falta de ar até em repouso, não consigo respirar direito.\",\n",
    "    \"Precisei dormir sentado porque deitado eu sufoco (ortopneia).\",\n",
    "    \"Sinto cansaço excessivo e o fôlego está curto ao caminhar um pouco.\",\n",
    "    \"Tenho tosse seca e persistente que piora de noite.\",\n",
    "    \"Acordo de noite com falta de ar intensa e tenho que correr para a janela.\",\n",
    "    \"Minhas pernas estão muito inchadas no fim do dia e a meia aperta.\",\n",
    "    \"Estou com a barriga d'água (ascite) e o peso aumentou muito rápido.\",\n",
    "    \"Quando me abaixo para amarrar o sapato, sinto falta de ar na hora (bendopneia).\",\n",
    "\n",
    "    # 3. Ritmo e Fluxo (Arritmias, Tontura e Síncope)\n",
    "    \"Sinto um disparo no coração que parece que vai sair pela boca.\",\n",
    "    \"Parece que o coração está falhando, dando uns pulos e depois parando.\",\n",
    "    \"Eu fiquei tonto e tive a sensação de que ia desmaiar (lipotimia).\",\n",
    "    \"Do nada, perdi a consciência e caí no chão (síncope).\",\n",
    "    \"Minhas panturrilhas doem muito depois de andar 5 minutos (claudicação).\",\n",
    "    \"Meus lábios e dedos estão azulados/roxos (cianose).\",\n",
    "\n",
    "    # 4. Sintomas Inespecíficos e Associados\n",
    "    \"Sinto uma fraqueza generalizada e um cansaço extremo o dia todo.\",\n",
    "    \"Minha pressão está sempre 16/10, mesmo tomando o remédio.\",\n",
    "    \"Tenho dor de cabeça na nuca que não melhora com remédios simples.\",\n",
    "    \"Fico com muito suor frio e ansiedade quando sinto o aperto no peito.\",\n",
    "    \"Meus dedos ficam brancos e dormentes no frio intenso (Fenômeno de Raynaud).\",\n",
    "    \"Tenho bolinhas de gordura amarelas na pálpebra (xantelasmas).\"\n",
    "]\n",
    "\n",
    "print(\"\\n\" + \"=\"*60)\n",
    "print(\"--- 🧪 TESTE RÁPIDO: PREVISÃO DE RISCO PARA TODOS OS EXEMPLOS ---\")\n",
    "print(\"=\"*60)\n",
    "for frase in exemplos:\n",
    "    risco_previsto = prever_risco_ml(frase)\n",
    "    print(f\"Frase: \\\"{frase[:60] + '...' if len(frase) > 60 else frase}\\\" -> Risco: {risco_previsto}\")\n",
    "\n",
    "\n",
    "# Prova de Conceito Completa com um Sintoma Aleatório (Integração NLP + ML)\n",
    "print(\"\\n\" + \"=\"*60)\n",
    "print(\"--- 🎲 PROVA DE CONCEITO: TESTE INTEGRADO ALEATÓRIO ---\")\n",
    "print(\"\"\" (Mostra Junta Médica e Previsão ML) \"\"\")\n",
    "print(\"=\"*60)\n",
    "\n",
    "if model_trained and knowledge_base_df is not None:\n",
    "    sintoma_aleatorio = random.choice(exemplos)\n",
    "    print(f\"\\nFrase Aleatória: '{sintoma_aleatorio}'\")\n",
    "    \n",
    "    # 1. Análise Semântica (Junta Médica)\n",
    "    analisar_sintoma_e_discutir(sintoma_aleatorio, knowledge_base_df)\n",
    "    \n",
    "    # 2. Previsão com Machine Learning\n",
    "    risco_previsto = prever_risco_ml(sintoma_aleatorio)\n",
    "    print(f\"🤖 Previsão Final do Modelo ML (Risco de Triagem): {risco_previsto}\")\n",
    "    print(\"\\n\" + \"=\"*60 + \"\\n\")\n",
    "else:\n",
    "    print(\"❌ Treinamento do modelo falhou ou base não carregada. Pule a POC.\")\n"
   ]
  },
  {
   "cell_type": "markdown",
   "metadata": {},
   "source": [
    "## 7. Análise Detalhada (Interpretabilidade da IA)"
   ]
  },
  {
   "cell_type": "code",
   "execution_count": 41,
   "metadata": {},
   "outputs": [
    {
     "name": "stdout",
     "output_type": "stream",
     "text": [
      "Frase em Análise: 'Senti um aperto no maxilar e comecei a suar frio de repente.'\n",
      "\n",
      "------------------------------\n",
      "Previsão do Modelo: 'Alto Risco' (Confiança: 1.00)\n",
      "------------------------------\n"
     ]
    }
   ],
   "source": [
    "if knowledge_base_df is not None and len(exemplos) > 0:\n",
    "    # Escolhe uma frase aleatória para análise\n",
    "    frase_para_analise = random.choice(exemplos)\n",
    "    \n",
    "    print(f\"Frase em Análise: '{frase_para_analise}'\")\n",
    "    print(\"\\n\" + \"-\"*30)\n",
    "    # Roda a previsão do modelo de ML\n",
    "    risco_previsto = prever_risco_ml(frase_para_analise)\n",
    "    print(f\"Previsão do Modelo: {risco_previsto}\")\n",
    "    print(\"-\"*30)\n",
    "    \n",
    "    doc = nlp(frase_para_analise)\n",
    "else:\n",
    "    print(\"❌ Base de conhecimento ou lista de exemplos indisponível. Não é possível prosseguir com a análise detalhada.\")"
   ]
  },
  {
   "cell_type": "markdown",
   "metadata": {},
   "source": [
    "### 7.1. Visualização do Processamento de Linguagem Natural (NLP)"
   ]
  },
  {
   "cell_type": "code",
   "execution_count": 44,
   "metadata": {},
   "outputs": [
    {
     "name": "stdout",
     "output_type": "stream",
     "text": [
      "Visualização de Entidades Nomeadas (NER):\n"
     ]
    },
    {
     "data": {
      "text/html": [
       "<div class=\"entities\" style=\"line-height: 2.5; direction: ltr\">Senti um aperto no maxilar e comecei a suar frio de repente.</div>"
      ],
      "text/plain": [
       "<IPython.core.display.HTML object>"
      ]
     },
     "metadata": {},
     "output_type": "display_data"
    },
    {
     "name": "stdout",
     "output_type": "stream",
     "text": [
      "\n",
      "Tokens Processados (Lemma e Stopword):\n",
      "  - Token: Senti      | Lemma: sentir     | Stopword: False\n",
      "  - Token: aperto     | Lemma: aperto     | Stopword: False\n",
      "  - Token: maxilar    | Lemma: maxilar    | Stopword: False\n",
      "  - Token: comecei    | Lemma: começar    | Stopword: False\n",
      "  - Token: suar       | Lemma: suar       | Stopword: False\n",
      "  - Token: frio       | Lemma: frio       | Stopword: False\n",
      "  - Token: repente    | Lemma: repente    | Stopword: False\n"
     ]
    }
   ],
   "source": [
    "if 'doc' in locals():\n",
    "    # 1. Visualiza as entidades nomeadas (NER)\n",
    "    print(\"Visualização de Entidades Nomeadas (NER):\")\n",
    "    \n",
    "    # Geramos o HTML do displacy forçando 'jupyter=False'. \n",
    "    # Isso evita que o displacy tente importar o módulo 'display' de forma incorreta.\n",
    "    html_content = displacy.render(doc, style='ent', jupyter=False)\n",
    "    \n",
    "    # Renderizamos o HTML manualmente usando a função 'display' importada na Célula 2.\n",
    "    # O 'display' e 'HTML' funcionam corretamente no seu ambiente.\n",
    "    display(HTML(html_content)) \n",
    "    \n",
    "    print(\"\\nTokens Processados (Lemma e Stopword):\")\n",
    "    for token in doc:\n",
    "        # Imprime apenas os tokens que não são stopwords, pontuação ou espaço\n",
    "        if not token.is_stop and not token.is_punct and not token.is_space:\n",
    "            print(f\"  - Token: {token.text.ljust(10)} | Lemma: {token.lemma_.ljust(10)} | Stopword: {token.is_stop}\")\n",
    "else:\n",
    "    print(\"Nenhuma frase para análise.\")"
   ]
  },
  {
   "cell_type": "markdown",
   "metadata": {},
   "source": [
    "### 7.2. Análise do Vetor TF-IDF da Frase (Interpretabilidade ML)"
   ]
  },
  {
   "cell_type": "code",
   "execution_count": 45,
   "metadata": {},
   "outputs": [
    {
     "name": "stderr",
     "output_type": "stream",
     "text": [
      "/tmp/ipykernel_35545/3461416804.py:15: FutureWarning: \n",
      "\n",
      "Passing `palette` without assigning `hue` is deprecated and will be removed in v0.14.0. Assign the `y` variable to `hue` and set `legend=False` for the same effect.\n",
      "\n",
      "  sns.barplot(x='Score TF-IDF', y='Palavra (Lemma)', data=df_scores.head(10), palette='plasma')\n"
     ]
    },
    {
     "data": {
      "image/png": "[encoded data removed]",
      "text/plain": [
       "<Figure size 1000x600 with 1 Axes>"
      ]
     },
     "metadata": {},
     "output_type": "display_data"
    }
   ],
   "source": [
    "if 'doc' in locals() and vectorizer is not None:\n",
    "    # Transforma a frase de análise em um vetor TF-IDF (usando o spacy_tokenizer)\n",
    "    frase_tfidf = vectorizer.transform([frase_para_analise])\n",
    "    \n",
    "    # Mapeia os scores\n",
    "    feature_names = vectorizer.get_feature_names_out()\n",
    "    feature_indices = frase_tfidf.indices\n",
    "    scores = frase_tfidf.data\n",
    "    \n",
    "    if len(scores) > 0:\n",
    "        df_scores = pd.DataFrame([(feature_names[i], score) for i, score in zip(feature_indices, scores)], columns=['Palavra (Lemma)', 'Score TF-IDF']).sort_values('Score TF-IDF', ascending=False)\n",
    "\n",
    "        # Plota o gráfico de barras\n",
    "        plt.figure(figsize=(10, 6))\n",
    "        sns.barplot(x='Score TF-IDF', y='Palavra (Lemma)', data=df_scores.head(10), palette='plasma')\n",
    "        plt.title(f\"Top 10 Scores TF-IDF na Frase (após Lematização)\")\n",
    "        plt.xlabel(\"Score TF-IDF\")\n",
    "        plt.ylabel(\"Palavra (Lemma)\")\n",
    "        plt.show()\n",
    "    else:\n",
    "        print(\"Nenhuma palavra relevante (após lematização/stopwords) foi encontrada no vocabulário do modelo.\")\n",
    "else:\n",
    "    print(\"Modelo de ML ou frase de análise indisponível.\")"
   ]
  }
 ],
 "metadata": {
  "kernelspec": {
   "display_name": "Python 3",
   "language": "python",
   "name": "python3"
  },
  "language_info": {
   "codemirror_mode": {
    "name": "ipython",
    "version": 3
   },
   "file_extension": ".py",
   "mimetype": "text/x-python",
   "name": "python",
   "nbconvert_exporter": "python",
   "pygments_lexer": "ipython3",
   "version": "3.13.7"
  }
 },
 "nbformat": 4,
 "nbformat_minor": 4
}
